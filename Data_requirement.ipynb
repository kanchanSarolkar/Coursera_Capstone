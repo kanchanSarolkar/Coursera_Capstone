{
 "cells": [
  {
   "cell_type": "markdown",
   "metadata": {},
   "source": [
    " # RECOMMENDER SYSTEM \n"
   ]
  },
  {
   "cell_type": "markdown",
   "metadata": {},
   "source": [
    "### I'm building a restaurant recommender system as a part of IBM capstone project. The recommender system recommends restaurants based on the user's previous data, considering the likes and dislikes of the user."
   ]
  },
  {
   "cell_type": "markdown",
   "metadata": {},
   "source": [
    "## Data requirements:\n",
    "### 1. Neighborhood data of Toronto is scraped from the website https://en.wikipedia.org/wiki/List_of_postal_codes_of_Canada:_M. For this, the python library called Beautifulsoup4 and requests are used. The data is processed in order to get the neighborhood of Toronto\n",
    "### 2. The geographical location- coordinates for each neighborhood can be obtained by using the geopy client.\n",
    "### 3. I'll also need the population for each neighborhood.\n",
    "### 4. Foursquare API is used to get nearest venue locations. By writing appropriate URI desired data can be obtained. The call returns a JSON file and we need to turn that into a data frame. \n"
   ]
  }
 ],
 "metadata": {
  "kernelspec": {
   "display_name": "Python 3",
   "language": "python",
   "name": "python3"
  },
  "language_info": {
   "codemirror_mode": {
    "name": "ipython",
    "version": 3
   },
   "file_extension": ".py",
   "mimetype": "text/x-python",
   "name": "python",
   "nbconvert_exporter": "python",
   "pygments_lexer": "ipython3",
   "version": "3.6.7"
  }
 },
 "nbformat": 4,
 "nbformat_minor": 2
}
