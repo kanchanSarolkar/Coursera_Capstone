{
 "cells": [
  {
   "cell_type": "markdown",
   "metadata": {},
   "source": [
    "# RECOMMENDER SYSTEM "
   ]
  },
  {
   "cell_type": "markdown",
   "metadata": {},
   "source": [
    "### I'm building a restaurant recommender system as a part of IBM capstone project. The recommender system recommends restaurants based on the user's previous data, considering the likes and dislikes of the user."
   ]
  },
  {
   "cell_type": "markdown",
   "metadata": {},
   "source": [
    "## Background of the business problem:\n",
    "### Toronto is the provincial capital of Ontario and the most populous city in Canada. Toronto is the fastest growing city in North America. Toronto is an international center of business, finance, arts, and culture, and is recognized as one of the most multicultural and cosmopolitan cities in the world. With so many people coming to Toronto, the need to help people find appropriate restaurants that serve at a reasonable cost cannot be overlooked. \n",
    " "
   ]
  },
  {
   "cell_type": "markdown",
   "metadata": {},
   "source": [
    "## Description of the problem:\n",
    "### The recommender system can be used to answer the following questions:\n",
    "### 1. Which restaurants are nearest to the user?\n",
    "### 2. What is the ranking of different restaurants with respect to users preferences?\n",
    "### 3. What types of restaurants are present in a particular area?\n",
    "### 4. Suggestions of similar restaurants present based on a preference to a particular food item.\n",
    "### 5. What is the cost comparison between similar restaurants?\n",
    "### The recommender system recommends restaurants based on the user's previous data, considering the likes and dislikes of the user.\n"
   ]
  },
  {
   "cell_type": "markdown",
   "metadata": {},
   "source": [
    "## Target Audience:\n",
    "### 1. All the people who wish to find suitable restaurants with respect to their preferences.\n",
    "### 2. Owners of restaurants, as they would be able to analyze the rating of their restaurant with respect to other restaurants in Toronto.\n",
    "### 2. Budding Data Scientists, who want to implement some of the most used Exploratory Data Analysis techniques to obtain necessary data, analyze it, and, finally be able to tell a story out of it."
   ]
  }
 ],
 "metadata": {
  "kernelspec": {
   "display_name": "Python 3",
   "language": "python",
   "name": "python3"
  },
  "language_info": {
   "codemirror_mode": {
    "name": "ipython",
    "version": 3
   },
   "file_extension": ".py",
   "mimetype": "text/x-python",
   "name": "python",
   "nbconvert_exporter": "python",
   "pygments_lexer": "ipython3",
   "version": "3.6.7"
  }
 },
 "nbformat": 4,
 "nbformat_minor": 2
}
